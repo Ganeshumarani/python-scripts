{
 "cells": [
  {
   "cell_type": "markdown",
   "metadata": {},
   "source": [
    "1)\tFor Each Procedure and each main category report on the trend changes.\n",
    "    a)\tFind the difference between Past (6/3/2/1) month average and Current months value \n",
    "    for Cost Per unit, Total Units per procedure, Total revenue etc. and this will be the slope\n",
    "    If the slope is positive then flag it , else if negative then it has improved else if it’s zero then it has maintained         same.\n"
   ]
  },
  {
   "cell_type": "code",
   "execution_count": 77,
   "metadata": {},
   "outputs": [],
   "source": [
    "import pandas as pd\n",
    "import numpy as np\n",
    "import datetime\n",
    "import os"
   ]
  },
  {
   "cell_type": "code",
   "execution_count": 78,
   "metadata": {},
   "outputs": [],
   "source": [
    "os.chdir(\"C:/Users/Ganesh P Umarani/Desktop/IHS CPP Analysis\")"
   ]
  },
  {
   "cell_type": "code",
   "execution_count": 6,
   "metadata": {},
   "outputs": [
    {
     "name": "stdout",
     "output_type": "stream",
     "text": [
      "Our data has 147763 rows and 15 columns\n",
      "Are there missing values? False\n"
     ]
    }
   ],
   "source": [
    "# reading the data\n",
    "data = pd.read_excel('Complete_data_after_join.xlsx')\n",
    "# getting an overview of our data\n",
    "print(\"Our data has {0} rows and {1} columns\".format(data.shape[0], data.shape[1]))\n",
    "# checking for missing values\n",
    "print(\"Are there missing values? {}\".format(data.isnull().any().any()))"
   ]
  },
  {
   "cell_type": "code",
   "execution_count": 7,
   "metadata": {},
   "outputs": [],
   "source": [
    "data['Month']= pd.DatetimeIndex(data['com_procedure_date']).month"
   ]
  },
  {
   "cell_type": "code",
   "execution_count": 11,
   "metadata": {},
   "outputs": [],
   "source": [
    "data['Year']= pd.DatetimeIndex(data['com_procedure_date']).year"
   ]
  },
  {
   "cell_type": "code",
   "execution_count": 16,
   "metadata": {},
   "outputs": [],
   "source": [
    "only_2019=data[data['Year']==2019]"
   ]
  },
  {
   "cell_type": "code",
   "execution_count": 19,
   "metadata": {},
   "outputs": [],
   "source": [
    "data=only_2019"
   ]
  },
  {
   "cell_type": "code",
   "execution_count": 20,
   "metadata": {},
   "outputs": [
    {
     "name": "stdout",
     "output_type": "stream",
     "text": [
      " month1 is the first month of the past months \n",
      " month2 is the last month of the past months \n",
      " month3 is the current month (NOTE: month1 always less than month2)\n"
     ]
    }
   ],
   "source": [
    "print(\" month1 is the first month of the past months \\n month2 is the last month of the past months \\n month3 is the current month (NOTE: month1 always less than month2)\")\n"
   ]
  },
  {
   "cell_type": "code",
   "execution_count": 21,
   "metadata": {},
   "outputs": [
    {
     "name": "stdout",
     "output_type": "stream",
     "text": [
      "Please enter month 1 : 5\n"
     ]
    }
   ],
   "source": [
    "month1 = int(input(prompt='Please enter month 1 : '))"
   ]
  },
  {
   "cell_type": "code",
   "execution_count": 22,
   "metadata": {},
   "outputs": [
    {
     "name": "stdout",
     "output_type": "stream",
     "text": [
      "Please enter month 2 : 7\n"
     ]
    }
   ],
   "source": [
    "month2 = int(input(prompt='Please enter month 2 : '))"
   ]
  },
  {
   "cell_type": "code",
   "execution_count": 23,
   "metadata": {},
   "outputs": [
    {
     "name": "stdout",
     "output_type": "stream",
     "text": [
      "Please enter month 3 : 8\n"
     ]
    }
   ],
   "source": [
    "month3 = int(input(prompt='Please enter month 3 : '))"
   ]
  },
  {
   "cell_type": "code",
   "execution_count": 24,
   "metadata": {},
   "outputs": [],
   "source": [
    "pivot_table_cpu=pd.pivot_table(data, index = ['com_procedurename','com_bom_main_category'],columns='Month', values=[\"com_cost_price\",'com_quantity_consumed'],aggfunc=np.sum).apply(np.ceil)"
   ]
  },
  {
   "cell_type": "code",
   "execution_count": 25,
   "metadata": {},
   "outputs": [],
   "source": [
    "flat_table_cpu=pd.DataFrame(pivot_table_cpu.to_records())"
   ]
  },
  {
   "cell_type": "code",
   "execution_count": 79,
   "metadata": {},
   "outputs": [],
   "source": [
    "flat_table_cpu.to_excel('pivot_table.xlsx')"
   ]
  },
  {
   "cell_type": "code",
   "execution_count": 26,
   "metadata": {},
   "outputs": [],
   "source": [
    "# take input from user on current month and use that below to remove it from the dataset\n",
    "# This line helps in removing those records from the table whose current month value is null\n",
    "ip=str(('com_cost_price', month3))\n",
    "qp=str(('com_quantity_consumed', month3))\n",
    "flat_table_cpu.dropna(subset=[qp], inplace=True)\n",
    "flat_table_cpu.dropna(subset=[ip], inplace=True)"
   ]
  },
  {
   "cell_type": "code",
   "execution_count": 27,
   "metadata": {},
   "outputs": [],
   "source": [
    "flat_table_cpu.fillna(value=0.0,inplace=True)"
   ]
  },
  {
   "cell_type": "code",
   "execution_count": 28,
   "metadata": {},
   "outputs": [],
   "source": [
    "colname=data[\"Month\"].unique()\n",
    "colname=colname.tolist()\n",
    "colname=[str(i) for i in colname]\n",
    "colname.insert(0,'Main_category')\n",
    "colname.insert(0,'Procedure_Name')"
   ]
  },
  {
   "cell_type": "code",
   "execution_count": 30,
   "metadata": {},
   "outputs": [],
   "source": [
    "def avg_cpu_table(flat_table_cpu,colname):\n",
    "    Cols =colname\n",
    "    Result=pd.DataFrame(columns=Cols)\n",
    "    for procedure in (flat_table_cpu['com_procedurename'].unique()).tolist():\n",
    "        main_category = (flat_table_cpu.loc[flat_table_cpu['com_procedurename']== procedure]['com_bom_main_category']).tolist()\n",
    "        for category in main_category:\n",
    "            Main_dict={}\n",
    "            row_data=flat_table_cpu[(flat_table_cpu['com_procedurename']== procedure)&(flat_table_cpu['com_bom_main_category']== category)]\n",
    "            for month in range(1,month3+1):\n",
    "                tot_qty=row_data[str(('com_quantity_consumed', month))].tolist()[0]\n",
    "                tot_cost=row_data[str(('com_cost_price', month))].tolist()[0]\n",
    "                sub_dict={'Total cost price':tot_cost,'Total qty consumed':tot_qty}\n",
    "                Main_dict.update({str(month):sub_dict})\n",
    "                Main_dict.update({'Procedure_Name':procedure,'Main_category':category})\n",
    "            Result= Result.append(Main_dict,ignore_index=True)\n",
    "    return Result\n",
    "                \n",
    "                \n",
    "                \n",
    "                \n",
    "    \n",
    "    "
   ]
  },
  {
   "cell_type": "code",
   "execution_count": 31,
   "metadata": {},
   "outputs": [],
   "source": [
    "op=avg_cpu_table(flat_table_cpu,colname)"
   ]
  },
  {
   "cell_type": "code",
   "execution_count": 32,
   "metadata": {},
   "outputs": [],
   "source": [
    "# This function helps in finding the trend change or slope. \n",
    "#Idea is to get the avg of Cost per unit for past required num of months and compare the avg with current month's avg.\n",
    "#Slope or trend calculation: we take difference b/w past months avg and that of current month.\n",
    "# If the difference is positve then Cost per unit has increased, if negative means it has decreased which is good and if 0 then it is constant \n",
    "#Here we take three i/p's \n",
    "# month1 is the first month of the past months\n",
    "# month2 is the last month of the past months\n",
    "# month3 is the current month (NOTE: month1 always less than month2)\n",
    "# CONSIDER SUM AND NOT AVERAGE\n",
    "\n",
    "def trend_change_avg_cpu(month1, month2, month3, flat_table_cpu):\n",
    "    flat_table=flat_table_cpu\n",
    "    Cols = ['Procedure_Name','Main_category','%Change_in_average_cost_price']\n",
    "    Result=pd.DataFrame(columns=Cols)\n",
    "    for procedure in (flat_table['Procedure_Name'].unique()).tolist():\n",
    "        main_category = (flat_table.loc[flat_table['Procedure_Name']== procedure]['Main_category']).tolist()\n",
    "        for category in main_category:\n",
    "            row_data=(flat_table.loc[(flat_table['Procedure_Name']==procedure)&(flat_table['Main_category']==category)])\n",
    "            row_data.set_index(['Procedure_Name', 'Main_category'],inplace=True)\n",
    "            past=row_data.loc[:, str(month1):str(month2)]\n",
    "            current=row_data[str(month3)][procedure][category]\n",
    "            total_cost_price_sum=0.0\n",
    "            total_qty=0.0\n",
    "            for i in range(month1,month2+1):\n",
    "                if (past[str(i)][procedure][category]) is None:\n",
    "                    continue\n",
    "                else:\n",
    "                    total_cost_price_sum +=past[str(i)][procedure][category].get('Total cost price')\n",
    "                    total_qty +=past[str(i)][procedure][category].get('Total qty consumed')\n",
    "            \n",
    "            if (total_cost_price_sum==0.0):\n",
    "                past_avg_cost_price=0.0\n",
    "            else:\n",
    "                past_avg_cost_price=(total_cost_price_sum/total_qty)\n",
    "            \n",
    "            if current is None:\n",
    "                curr_avg_cost_price=0.0\n",
    "            else:\n",
    "                curr_avg_cost_price=(current.get('Total cost price')/current.get('Total qty consumed'))\n",
    "                \n",
    "            if(past_avg_cost_price>0.0):\n",
    "                change=((curr_avg_cost_price-past_avg_cost_price)/past_avg_cost_price)*100\n",
    "            else:\n",
    "                change=((curr_avg_cost_price-past_avg_cost_price)/curr_avg_cost_price)*100\n",
    "\n",
    "                \n",
    "            Result= Result.append({'Procedure_Name':procedure,'Main_category':category,'%Change_in_average_cost_price':change},ignore_index=True)\n",
    "    \n",
    "    Result.sort_values(by='%Change_in_average_cost_price', ascending=False,inplace=True)\n",
    "    return Result\n",
    "    "
   ]
  },
  {
   "cell_type": "code",
   "execution_count": 33,
   "metadata": {},
   "outputs": [],
   "source": [
    "result= trend_change_avg_cpu(month1,month2,month3,op)"
   ]
  },
  {
   "cell_type": "code",
   "execution_count": 38,
   "metadata": {},
   "outputs": [],
   "source": [
    "result.to_excel('Avg_cost_per_unit_result '+str(month1)+' - '+str(month2)+'.xlsx')"
   ]
  },
  {
   "cell_type": "markdown",
   "metadata": {},
   "source": [
    "# Average Quantity per procedure"
   ]
  },
  {
   "cell_type": "code",
   "execution_count": 39,
   "metadata": {},
   "outputs": [],
   "source": [
    "pivot_table_AQPP=pd.pivot_table(data, index = ['com_procedurename','com_bom_main_category'],columns='Month', values=[\"com_quantity_consumed\",\"com_procedure_number\"],aggfunc={\"com_quantity_consumed\":np.sum,\"com_procedure_number\":pd.Series.nunique}).apply(np.ceil)"
   ]
  },
  {
   "cell_type": "code",
   "execution_count": 40,
   "metadata": {},
   "outputs": [],
   "source": [
    "flat_table_AQPP=pd.DataFrame(pivot_table_AQPP.to_records())"
   ]
  },
  {
   "cell_type": "code",
   "execution_count": 41,
   "metadata": {},
   "outputs": [],
   "source": [
    "# take input from user on current month and use that below to remove it from the dataset\n",
    "# This line helps in removing those records from the table whose current month value is null\n",
    "ip=str(('com_procedure_number',month3))\n",
    "qp=str(('com_quantity_consumed', month3))\n",
    "flat_table_AQPP.dropna(subset=[qp], inplace=True)\n",
    "flat_table_AQPP.dropna(subset=[ip], inplace=True)"
   ]
  },
  {
   "cell_type": "code",
   "execution_count": 42,
   "metadata": {},
   "outputs": [],
   "source": [
    "flat_table_AQPP.fillna(value=0.0,inplace=True)"
   ]
  },
  {
   "cell_type": "code",
   "execution_count": 43,
   "metadata": {},
   "outputs": [],
   "source": [
    "#Below function generates a table where we have by procedure, by main category avg qty per procedure for each month. \n",
    "#This table can be used to get a hplistic picture and produce graphs and charts which is similar to what is already there in dashboard\n",
    "#I/p is a pivot table which has total qty and number of procedures monthwise\n",
    "def avg_qty_pp_table(flat_table_AQPP, colname):\n",
    "    Result=pd.DataFrame(columns=colname)\n",
    "    for procedure in (flat_table_AQPP['com_procedurename'].unique()).tolist():\n",
    "        main_category = (flat_table_AQPP.loc[flat_table_AQPP['com_procedurename']== procedure]['com_bom_main_category']).tolist()\n",
    "        for category in main_category:\n",
    "            Main_dict={}\n",
    "            row_data=flat_table_AQPP[(flat_table_AQPP['com_procedurename']==procedure)&(flat_table_AQPP['com_bom_main_category']== category)]\n",
    "            for month in range(1,month3+1):\n",
    "                tot_qty=row_data[str(('com_quantity_consumed', month))].tolist()[0]\n",
    "                tot_proc=row_data[str(('com_procedure_number', month))].tolist()[0]\n",
    "                sub_dict={'Total Proc':tot_proc,'Total qty consumed':tot_qty}\n",
    "                Main_dict.update({str(month):sub_dict})\n",
    "            Main_dict.update({'Procedure_Name':procedure,'Main_category':category})\n",
    "            Result= Result.append(Main_dict,ignore_index=True)\n",
    "    return Result\n",
    "    "
   ]
  },
  {
   "cell_type": "code",
   "execution_count": 44,
   "metadata": {},
   "outputs": [],
   "source": [
    "check= avg_qty_pp_table(flat_table_AQPP,colname)"
   ]
  },
  {
   "cell_type": "code",
   "execution_count": 49,
   "metadata": {},
   "outputs": [],
   "source": [
    "# This function helps in finding the trend change or slope. \n",
    "#Idea is to get the avg of qty per procedure for past required num of months and compare the avg with current month's avg.\n",
    "#Slope or trend calculation: we take difference b/w past months avg and that of current month.\n",
    "# If the difference is positve then qty per procedure has increased, if negative means it has decreased which is good and if 0 then it is constant \n",
    "#Here we take three i/p's \n",
    "# month1 is the first month of the past months\n",
    "# month2 is the last month of the past months\n",
    "# month3 is the current month (NOTE: month1 always less than month2)\n",
    "def trend_change_avg_qty_pp(month1, month2, month3,data_table):\n",
    "    Cols = ['Procedure_Name','Main_category','%Change_in_average_qty_pp']\n",
    "    Result=pd.DataFrame(columns=Cols)\n",
    "    for procedure in (data_table['Procedure_Name'].unique()).tolist():\n",
    "        main_category = (data_table.loc[data_table['Procedure_Name']== procedure]['Main_category']).tolist()\n",
    "        for category in main_category:\n",
    "            row_data=(data_table.loc[(data_table['Procedure_Name']== procedure) & (data_table['Main_category']==category)])\n",
    "            row_data.set_index(['Procedure_Name', 'Main_category'],inplace=True)\n",
    "            past=row_data.loc[:, str(month1):str(month2)]\n",
    "            current=row_data[str(month3)][procedure][category]\n",
    "            total_proc=0.0\n",
    "            total_qty=0.0\n",
    "            for i in range(month1,month2+1):\n",
    "                if (past[str(i)][procedure][category]) is None:\n",
    "                    continue\n",
    "                else:\n",
    "                    total_proc +=past[str(i)][procedure][category].get('Total Proc')\n",
    "                    total_qty +=past[str(i)][procedure][category].get('Total qty consumed')\n",
    "            \n",
    "            if (total_proc==0.0):\n",
    "                past_avg_qty_pp=0.0\n",
    "            else:\n",
    "                past_avg_qty_pp=(total_qty/total_proc)*100\n",
    "            \n",
    "            if current is None:\n",
    "                curr_avg_qty_pp=0.0\n",
    "            else:\n",
    "                curr_avg_qty_pp=(current.get('Total qty consumed')/current.get('Total Proc'))*100\n",
    "                \n",
    "            if(past_avg_qty_pp>0.0):\n",
    "                change=((curr_avg_qty_pp-past_avg_qty_pp)/past_avg_qty_pp)*100\n",
    "            else:\n",
    "                change=((curr_avg_qty_pp-past_avg_qty_pp)/curr_avg_qty_pp)*100\n",
    "            \n",
    "            Result= Result.append({'Procedure_Name':procedure,'Main_category':category,'%Change_in_average_qty_pp':change},ignore_index=True)\n",
    "    \n",
    "    Result.sort_values(by='%Change_in_average_qty_pp', ascending=False,inplace=True)\n",
    "    return Result\n"
   ]
  },
  {
   "cell_type": "code",
   "execution_count": 50,
   "metadata": {},
   "outputs": [],
   "source": [
    "output= trend_change_avg_qty_pp(month1, month2, month3,check)"
   ]
  },
  {
   "cell_type": "code",
   "execution_count": 51,
   "metadata": {},
   "outputs": [],
   "source": [
    "output.to_excel('Avg_qty_pp_result '+str(month1)+' - '+str(month2)+'.xlsx')"
   ]
  },
  {
   "cell_type": "code",
   "execution_count": null,
   "metadata": {},
   "outputs": [],
   "source": []
  },
  {
   "cell_type": "markdown",
   "metadata": {},
   "source": [
    "2) At Supplier or Manufacturer level report on the growth in terms of total revenue. It can also be broken By procedure, By category which supplier has grown more."
   ]
  },
  {
   "cell_type": "markdown",
   "metadata": {},
   "source": [
    "# Supplier level Analysis"
   ]
  },
  {
   "cell_type": "code",
   "execution_count": null,
   "metadata": {},
   "outputs": [],
   "source": []
  },
  {
   "cell_type": "code",
   "execution_count": 52,
   "metadata": {},
   "outputs": [],
   "source": [
    "Month_wise_total_expen=pd.pivot_table(data, index = ['com_procedurename','com_bom_main_category','Month'],values=[\"com_cost_price\"],aggfunc={'com_cost_price': np.sum}).apply(np.ceil)"
   ]
  },
  {
   "cell_type": "code",
   "execution_count": 53,
   "metadata": {},
   "outputs": [],
   "source": [
    "Month_wise_total_expen = pd.DataFrame(Month_wise_total_expen.to_records())"
   ]
  },
  {
   "cell_type": "code",
   "execution_count": 54,
   "metadata": {},
   "outputs": [],
   "source": [
    "pt_tot_expend = pd.pivot_table(data, index = ['com_procedurename','com_bom_main_category','Month'],columns='com_supplier', values=[\"com_cost_price\",\"com_quantity_consumed\"],aggfunc={'com_cost_price': np.mean,'com_quantity_consumed':np.sum})"
   ]
  },
  {
   "cell_type": "code",
   "execution_count": 55,
   "metadata": {},
   "outputs": [],
   "source": [
    "def cheapest_supplier_table(pt_tot_expend,Month_wise_total_expen,colname):\n",
    "    flat_table=pd.DataFrame(pt_tot_expend.to_records())\n",
    "    Result = pd.DataFrame(columns=colname)\n",
    "    for procedure in (flat_table['com_procedurename'].unique()).tolist():\n",
    "        main_category = (flat_table.loc[flat_table['com_procedurename']== procedure]['com_bom_main_category'].unique()).tolist()\n",
    "        for category in main_category:\n",
    "            Main_dict={}\n",
    "            months=(flat_table.loc[(flat_table['com_procedurename']== procedure)&(flat_table['com_bom_main_category']==category)]['Month']).tolist()\n",
    "            for month in months:\n",
    "                extracted_cost_price=pt_tot_expend.query('(com_procedurename == @procedure) & (com_bom_main_category == @category) &(Month == @month)').dropna(axis=1).loc[:,('com_cost_price',slice(None))]\n",
    "                extracted_qty=pt_tot_expend.query('(com_procedurename == @procedure) & (com_bom_main_category == @category) &(Month == @month)').dropna(axis=1).loc[:,'com_quantity_consumed']\n",
    "                Cheapest_supplier_name=list(extracted_cost_price.idxmin(axis=1).values[0])[1]\n",
    "                Cheapest_supp_qty=extracted_qty[Cheapest_supplier_name].values[0]\n",
    "                Cheapest_cost_price=list(extracted_cost_price.min(axis=1))[0]\n",
    "                Cheapest_supp_expend=Cheapest_cost_price*Cheapest_supp_qty\n",
    "                Total_expend=Month_wise_total_expen[(Month_wise_total_expen['com_procedurename']==procedure)&(Month_wise_total_expen['com_bom_main_category']==category)&(Month_wise_total_expen['Month']==month)]['com_cost_price'].tolist()[0]\n",
    "                sub_dict={'Supplier_Name':Cheapest_supplier_name,'Qty':Cheapest_supp_qty,'Cost_Price':Cheapest_cost_price,'Cheapest_supp_expend':Cheapest_supp_expend,'Total Expend': Total_expend}\n",
    "                Main_dict.update({str(month):sub_dict})\n",
    "            Main_dict.update({'Procedure_Name':procedure,'Main_category':category})\n",
    "            Result=Result.append(Main_dict,ignore_index=True)\n",
    "        \n",
    "    return Result        \n",
    "        "
   ]
  },
  {
   "cell_type": "code",
   "execution_count": 56,
   "metadata": {},
   "outputs": [],
   "source": [
    "Cheap_supp_info=cheapest_supplier_table(pt_tot_expend, Month_wise_total_expen,colname)"
   ]
  },
  {
   "cell_type": "code",
   "execution_count": 57,
   "metadata": {},
   "outputs": [],
   "source": [
    "def cheapest_supplier_trend(table_of_cheap_supp,month1,month2,month3):\n",
    "    Result = pd.DataFrame(columns=['Procedure','Main_Category','Is_curr_%_of_CS_expend_more'])\n",
    "    for procedure in (table_of_cheap_supp['Procedure_Name'].unique()).tolist():\n",
    "        main_category = (table_of_cheap_supp.loc[table_of_cheap_supp['Procedure_Name']== procedure]['Main_category']).tolist()\n",
    "        for category in main_category:\n",
    "            row_data=(table_of_cheap_supp.loc[(table_of_cheap_supp['Procedure_Name']==procedure)&(table_of_cheap_supp['Main_category']==category)])\n",
    "            row_data.set_index(['Procedure_Name', 'Main_category'],inplace=True)\n",
    "            past=row_data.loc[:, str(month1):str(month2)]\n",
    "            past.fillna(0, inplace=True)\n",
    "            current=row_data.loc[:, str(month3):str(month3)]\n",
    "            current.fillna(0, inplace=True)\n",
    "            total_cheap_sup_exp=0.0\n",
    "            tot_exp=0.0\n",
    "            for i in range(month1,month2+1):\n",
    "                if ((past[str(i)][procedure][category])==0):\n",
    "                    continue\n",
    "                else:\n",
    "                    total_cheap_sup_exp +=past[str(i)][procedure][category].get('Cheapest_supp_expend')\n",
    "                    tot_exp +=past[str(i)][procedure][category].get('Total Expend')\n",
    "            \n",
    "            if (tot_exp==0.0):\n",
    "                past_cheap_supp_avg_amt=0.0\n",
    "            else:\n",
    "                past_cheap_supp_avg_amt=(total_cheap_sup_exp/tot_exp)*100\n",
    "            \n",
    "            if ((current[str(month3)][procedure][category]) == 0):\n",
    "                curr_cheap_supp_avg_amt=0.0\n",
    "            else:\n",
    "                curr_cheap_supp_avg_amt=(current[str(month3)][procedure][category].get('Cheapest_supp_expend')/current[str(month3)][procedure][category].get('Total Expend'))*100\n",
    "            \n",
    "            if(curr_cheap_supp_avg_amt>past_cheap_supp_avg_amt):\n",
    "                Is_CS_expend_more=1\n",
    "            else:\n",
    "                Is_CS_expend_more=0\n",
    "                \n",
    "            Result= Result.append({'Procedure':procedure,'Main_Category':category,'Is_curr_%_of_CS_expend_more':Is_CS_expend_more},ignore_index=True)\n",
    "    return Result"
   ]
  },
  {
   "cell_type": "code",
   "execution_count": 58,
   "metadata": {},
   "outputs": [
    {
     "name": "stderr",
     "output_type": "stream",
     "text": [
      "c:\\users\\ganesh p umarani\\appdata\\local\\programs\\python\\python37\\lib\\site-packages\\pandas\\core\\frame.py:4239: SettingWithCopyWarning: \n",
      "A value is trying to be set on a copy of a slice from a DataFrame\n",
      "\n",
      "See the caveats in the documentation: http://pandas.pydata.org/pandas-docs/stable/user_guide/indexing.html#returning-a-view-versus-a-copy\n",
      "  **kwargs\n"
     ]
    }
   ],
   "source": [
    "output= cheapest_supplier_trend(Cheap_supp_info,month1,month2,month3)"
   ]
  },
  {
   "cell_type": "code",
   "execution_count": 59,
   "metadata": {},
   "outputs": [],
   "source": [
    "output.to_excel('%_of_cs_result '+str(month1)+' - '+str(month2)+'.xlsx')"
   ]
  },
  {
   "cell_type": "code",
   "execution_count": null,
   "metadata": {},
   "outputs": [],
   "source": []
  },
  {
   "cell_type": "markdown",
   "metadata": {},
   "source": [
    "This is for only new month data Check if the supplier who has cheapest average price per unit for that procedure, Main category combination has got the 80% of the total spend. If not flag it , because it tells us that we are spending on costlier suppliers instead of cheap suppliers."
   ]
  },
  {
   "cell_type": "code",
   "execution_count": 60,
   "metadata": {},
   "outputs": [],
   "source": [
    "curr_month_data=data[data['Month']==month3]"
   ]
  },
  {
   "cell_type": "code",
   "execution_count": 61,
   "metadata": {},
   "outputs": [],
   "source": [
    "total_expend=pd.pivot_table(curr_month_data, index = ['com_procedurename','com_bom_main_category'],values=[\"com_cost_price\"],aggfunc={'com_cost_price': np.sum}).apply(np.ceil)"
   ]
  },
  {
   "cell_type": "code",
   "execution_count": 62,
   "metadata": {},
   "outputs": [],
   "source": [
    "total_expend = pd.DataFrame(total_expend.to_records())"
   ]
  },
  {
   "cell_type": "code",
   "execution_count": 63,
   "metadata": {},
   "outputs": [],
   "source": [
    "total_expend.rename(columns={'com_procedurename':'Procedure','com_bom_main_category':'Main_Category','com_cost_price':'Total_expenditure'},inplace=True)"
   ]
  },
  {
   "cell_type": "code",
   "execution_count": 64,
   "metadata": {},
   "outputs": [],
   "source": [
    "Low_cost_supp=pd.pivot_table(curr_month_data, index = ['com_procedurename','com_bom_main_category'],columns='com_supplier', values=[\"com_cost_price\",\"com_quantity_consumed\"],aggfunc={'com_cost_price': np.mean ,'com_quantity_consumed':np.sum}).apply(np.ceil)"
   ]
  },
  {
   "cell_type": "code",
   "execution_count": 65,
   "metadata": {},
   "outputs": [],
   "source": [
    "def curr_month_low_cost_supp(pt_tot_expend):\n",
    "    flat_table=pd.DataFrame(pt_tot_expend.to_records())\n",
    "    Result = pd.DataFrame(columns=['Procedure','Main_Category','LC_supp_name','LC_supp_cost_price','Lc_supp_qty'])\n",
    "    for procedure in (flat_table['com_procedurename'].unique()).tolist():\n",
    "        main_category = (flat_table.loc[flat_table['com_procedurename']== procedure]['com_bom_main_category'].unique()).tolist()\n",
    "        for category in main_category:\n",
    "                extracted_cost_price=pt_tot_expend.query('(com_procedurename == @procedure) & (com_bom_main_category == @category)').dropna(axis=1).loc[:,('com_cost_price',slice(None))]\n",
    "                extracted_qty=pt_tot_expend.query('(com_procedurename == @procedure) & (com_bom_main_category == @category)').dropna(axis=1).loc[:,'com_quantity_consumed']\n",
    "                Cheapest_supplier_name=list(extracted_cost_price.idxmin(axis=1).values[0])[1]\n",
    "                Cheapest_supp_qty=extracted_qty[Cheapest_supplier_name].values[0]\n",
    "                Cheapest_cost_price=list(extracted_cost_price.min(axis=1))[0]\n",
    "                Result= Result.append({'Procedure':procedure,'Main_Category':category,'LC_supp_name':Cheapest_supplier_name,\n",
    "                                   'LC_supp_cost_price':Cheapest_cost_price,'Lc_supp_qty':Cheapest_supp_qty},ignore_index=True)    \n",
    "    return Result        \n",
    "        "
   ]
  },
  {
   "cell_type": "code",
   "execution_count": 66,
   "metadata": {},
   "outputs": [],
   "source": [
    "low_cost_supp_details=curr_month_low_cost_supp(Low_cost_supp)"
   ]
  },
  {
   "cell_type": "code",
   "execution_count": 67,
   "metadata": {},
   "outputs": [],
   "source": [
    "Merged=pd.merge(low_cost_supp_details,total_expend, on=['Procedure','Main_Category'])"
   ]
  },
  {
   "cell_type": "code",
   "execution_count": 68,
   "metadata": {},
   "outputs": [],
   "source": [
    "Merged['%_of_tot_expen']=((Merged['LC_supp_cost_price']*Merged['Lc_supp_qty'])/Merged['Total_expenditure'])"
   ]
  },
  {
   "cell_type": "code",
   "execution_count": 69,
   "metadata": {},
   "outputs": [],
   "source": [
    "Merged.to_excel('share_of_cs '+str(month1)+' - '+str(month2)+'.xlsx')"
   ]
  },
  {
   "cell_type": "code",
   "execution_count": 75,
   "metadata": {},
   "outputs": [],
   "source": [
    "to_check= Merged[Merged['%_of_tot_expen']<0.80]"
   ]
  },
  {
   "cell_type": "code",
   "execution_count": 76,
   "metadata": {},
   "outputs": [],
   "source": [
    "to_check.to_excel('share_of_cs_less_than_80_percent '+str(month1)+' - '+str(month2)+'.xlsx')"
   ]
  },
  {
   "cell_type": "code",
   "execution_count": 70,
   "metadata": {},
   "outputs": [],
   "source": []
  },
  {
   "cell_type": "code",
   "execution_count": null,
   "metadata": {},
   "outputs": [],
   "source": []
  },
  {
   "cell_type": "code",
   "execution_count": null,
   "metadata": {},
   "outputs": [],
   "source": []
  }
 ],
 "metadata": {
  "kernelspec": {
   "display_name": "Python 3",
   "language": "python",
   "name": "python3"
  },
  "language_info": {
   "codemirror_mode": {
    "name": "ipython",
    "version": 3
   },
   "file_extension": ".py",
   "mimetype": "text/x-python",
   "name": "python",
   "nbconvert_exporter": "python",
   "pygments_lexer": "ipython3",
   "version": "3.7.4"
  }
 },
 "nbformat": 4,
 "nbformat_minor": 2
}
