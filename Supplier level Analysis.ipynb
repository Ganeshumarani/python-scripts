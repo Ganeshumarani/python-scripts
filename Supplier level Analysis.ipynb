{
 "cells": [
  {
   "cell_type": "markdown",
   "metadata": {},
   "source": [
    "2)\tAt Supplier or Manufacturer level report on the growth in terms of total revenue. \n",
    "    It can also be broken By procedure, By category which supplier has grown more."
   ]
  },
  {
   "cell_type": "code",
   "execution_count": null,
   "metadata": {},
   "outputs": [],
   "source": [
    "import pandas as pd\n",
    "import numpy as np\n",
    "import datetime"
   ]
  },
  {
   "cell_type": "code",
   "execution_count": null,
   "metadata": {},
   "outputs": [],
   "source": [
    "# reading the data\n",
    "data = pd.read_excel('complete_data.xlsx', index_col=0)"
   ]
  },
  {
   "cell_type": "code",
   "execution_count": null,
   "metadata": {},
   "outputs": [],
   "source": [
    "# getting an overview of our data\n",
    "print(\"Our data has {0} rows and {1} columns\".format(data.shape[0], data.shape[1]))\n",
    "# checking for missing values\n",
    "print(\"Are there missing values? {}\".format(data.isnull().any().any()))\n",
    "data.describe()"
   ]
  },
  {
   "cell_type": "code",
   "execution_count": null,
   "metadata": {},
   "outputs": [],
   "source": [
    "data['Month']= pd.DatetimeIndex(data['com_procedure_date']).month"
   ]
  },
  {
   "cell_type": "code",
   "execution_count": null,
   "metadata": {},
   "outputs": [],
   "source": [
    "pivot_table=pd.pivot_table(data, index = ['com_procedurename','com_bom_main_category','Month'],columns='com_supplier', values=[\"com_cost_price\"],aggfunc={'com_cost_price': np.mean}).apply(np.ceil)"
   ]
  },
  {
   "cell_type": "code",
   "execution_count": null,
   "metadata": {},
   "outputs": [],
   "source": [
    "Month_wise_total_expen=pd.pivot_table(data, index = ['com_procedurename','com_bom_main_category','Month'],values=[\"com_cost_price\"],aggfunc={'com_cost_price': np.sum}).apply(np.ceil)"
   ]
  },
  {
   "cell_type": "code",
   "execution_count": null,
   "metadata": {},
   "outputs": [],
   "source": [
    "Month_wise_total_expen = pd.DataFrame(Month_wise_total_expen.to_records())"
   ]
  },
  {
   "cell_type": "code",
   "execution_count": null,
   "metadata": {},
   "outputs": [],
   "source": [
    "pt_tot_expend = pd.pivot_table(data, index = ['com_procedurename','com_bom_main_category','Month'],columns='com_supplier', values=[\"com_cost_price\",\"com_quantity_consumed\"],aggfunc={'com_cost_price': np.mean,'com_quantity_consumed':np.sum})"
   ]
  },
  {
   "cell_type": "code",
   "execution_count": null,
   "metadata": {},
   "outputs": [],
   "source": [
    "def cheapest_supplier_table(pt_tot_expend,Month_wise_total_expen):\n",
    "    flat_table=pd.DataFrame(pt_tot_expend.to_records())\n",
    "    Result = pd.DataFrame(columns=['Procedure','Main_Category','1','2','3','4','5','6','7'])\n",
    "    for procedure in (flat_table['com_procedurename'].unique()).tolist():\n",
    "        main_category = (flat_table.loc[flat_table['com_procedurename']== procedure]['com_bom_main_category'].unique()).tolist()\n",
    "        for category in main_category:\n",
    "            Main_dict={}\n",
    "            months=(flat_table.loc[(flat_table['com_procedurename']== procedure)&(flat_table['com_bom_main_category']==category)]['Month']).tolist()\n",
    "            for month in months:\n",
    "                extracted_cost_price=pt_tot_expend.query('(com_procedurename == @procedure) & (com_bom_main_category == @category) &(Month == @month)').dropna(axis=1).loc[:,('com_cost_price',slice(None))]\n",
    "                extracted_qty=pt_tot_expend.query('(com_procedurename == @procedure) & (com_bom_main_category == @category) &(Month == @month)').dropna(axis=1).loc[:,'com_quantity_consumed']\n",
    "                Cheapest_supplier_name=list(extracted_cost_price.idxmin(axis=1).values[0])[1]\n",
    "                Cheapest_supp_qty=extracted_qty[Cheapest_supplier_name].values[0]\n",
    "                Cheapest_cost_price=list(extracted_cost_price.min(axis=1))[0]\n",
    "                Cheapest_supp_expend=Cheapest_cost_price*Cheapest_supp_qty\n",
    "                Total_expend=Month_wise_total_expen[(Month_wise_total_expen['com_procedurename']==procedure)&(Month_wise_total_expen['com_bom_main_category']==category)&(Month_wise_total_expen['Month']==month)]['com_cost_price'].tolist()[0]\n",
    "                sub_dict={'Supplier_Name':Cheapest_supplier_name,'Qty':Cheapest_supp_qty,'Cost_Price':Cheapest_cost_price,'Cheapest_supp_expend':Cheapest_supp_expend,'Total Expend': Total_expend}\n",
    "                Main_dict.update({month:sub_dict})\n",
    "            Result= Result.append({'Procedure':procedure,'Main_Category':category,\n",
    "                                   '1':Main_dict.get(1),'2':Main_dict.get(2),'3':Main_dict.get(3),\n",
    "                                   '4':Main_dict.get(4),'5':Main_dict.get(5),'6':Main_dict.get(6),\n",
    "                                   '7':Main_dict.get(7)},ignore_index=True)\n",
    "        \n",
    "    return Result        \n",
    "        "
   ]
  },
  {
   "cell_type": "code",
   "execution_count": null,
   "metadata": {},
   "outputs": [],
   "source": [
    "rs=cheapest_supplier_table(pt_tot_expend, Month_wise_total_expen)"
   ]
  },
  {
   "cell_type": "code",
   "execution_count": null,
   "metadata": {},
   "outputs": [],
   "source": [
    "table_of_cheap_supp=rs"
   ]
  },
  {
   "cell_type": "code",
   "execution_count": null,
   "metadata": {},
   "outputs": [],
   "source": [
    "def cheapest_supplier_trend(table_of_cheap_supp,month1,month2,month3):\n",
    "    Result = pd.DataFrame(columns=['Procedure','Main_Category','Is_curr_%_of_CS_expend_more'])\n",
    "    for procedure in (table_of_cheap_supp['Procedure'].unique()).tolist():\n",
    "        main_category = (table_of_cheap_supp.loc[table_of_cheap_supp['Procedure']== procedure]['Main_Category']).tolist()\n",
    "        for category in main_category:\n",
    "            row_data=(table_of_cheap_supp.loc[(table_of_cheap_supp['Procedure']==procedure)&(table_of_cheap_supp['Main_Category']==category)])\n",
    "            row_data.set_index(['Procedure', 'Main_Category'],inplace=True)\n",
    "            past=row_data.loc[:, str(month1):str(month2)]\n",
    "            current=row_data[str(month3)][procedure][category]\n",
    "            total_cheap_sup_exp=0.0\n",
    "            tot_exp=0.0\n",
    "            for i in range(month1,month2+1):\n",
    "                if (past[str(i)][procedure][category]) is None:\n",
    "                    continue\n",
    "                else:\n",
    "                    total_cheap_sup_exp +=past[str(i)][procedure][category].get('Cheapest_supp_expend')\n",
    "                    tot_exp +=past[str(i)][procedure][category].get('Total Expend')\n",
    "            \n",
    "            if (tot_exp==0.0):\n",
    "                past_cheap_supp_avg_amt=0.0\n",
    "            else:\n",
    "                past_cheap_supp_avg_amt=(total_cheap_sup_exp/tot_exp)*100\n",
    "            \n",
    "            if current is None:\n",
    "                curr_cheap_supp_avg_amt=0.0\n",
    "            else:\n",
    "                curr_cheap_supp_avg_amt=(current.get('Cheapest_supp_expend')/current.get('Total Expend'))*100\n",
    "            \n",
    "            if(curr_cheap_supp_avg_amt>past_cheap_supp_avg_amt):\n",
    "                Is_CS_expend_more=1\n",
    "            else:\n",
    "                Is_CS_expend_more=0\n",
    "                \n",
    "            Result= Result.append({'Procedure':procedure,'Main_Category':category,'Is_curr_%_of_CS_expend_more':Is_CS_expend_more},ignore_index=True)\n",
    "    return Result\n",
    "                \n",
    "    \n",
    "    "
   ]
  },
  {
   "cell_type": "code",
   "execution_count": null,
   "metadata": {},
   "outputs": [],
   "source": [
    "check= cheapest_supplier_trend(rs,2,5,6)"
   ]
  },
  {
   "cell_type": "markdown",
   "metadata": {},
   "source": [
    "This is for only new month data\n",
    "Check if the supplier who has cheapest average price per unit for that procedure, Main category combination has got the 80% of the total spend. If not flag it , because it tells us that we are spending on costlier suppliers instead of cheap suppliers."
   ]
  },
  {
   "cell_type": "code",
   "execution_count": null,
   "metadata": {},
   "outputs": [],
   "source": [
    "July_data=data[data['Month']==7]"
   ]
  },
  {
   "cell_type": "code",
   "execution_count": null,
   "metadata": {},
   "outputs": [],
   "source": [
    "total_expend=pd.pivot_table(July_data, index = ['com_procedurename','com_bom_main_category'],values=[\"com_cost_price\"],aggfunc={'com_cost_price': np.sum}).apply(np.ceil)"
   ]
  },
  {
   "cell_type": "code",
   "execution_count": null,
   "metadata": {},
   "outputs": [],
   "source": [
    "total_expend = pd.DataFrame(total_expend.to_records())"
   ]
  },
  {
   "cell_type": "code",
   "execution_count": null,
   "metadata": {},
   "outputs": [],
   "source": [
    "total_expend.rename(columns={'com_procedurename':'Procedure','com_bom_main_category':'Main_Category','com_cost_price':'Total_expenditure'},inplace=True)"
   ]
  },
  {
   "cell_type": "code",
   "execution_count": null,
   "metadata": {},
   "outputs": [],
   "source": [
    "Low_cost_supp=pd.pivot_table(July_data, index = ['com_procedurename','com_bom_main_category'],columns='com_supplier', values=[\"com_cost_price\",\"com_quantity_consumed\"],aggfunc={'com_cost_price': np.mean ,'com_quantity_consumed':np.sum}).apply(np.ceil)"
   ]
  },
  {
   "cell_type": "code",
   "execution_count": null,
   "metadata": {},
   "outputs": [],
   "source": [
    "def curr_month_low_cost_supp(pt_tot_expend):\n",
    "    flat_table=pd.DataFrame(pt_tot_expend.to_records())\n",
    "    Result = pd.DataFrame(columns=['Procedure','Main_Category','LC_supp_name','LC_supp_cost_price','Lc_supp_qty'])\n",
    "    for procedure in (flat_table['com_procedurename'].unique()).tolist():\n",
    "        main_category = (flat_table.loc[flat_table['com_procedurename']== procedure]['com_bom_main_category'].unique()).tolist()\n",
    "        for category in main_category:\n",
    "                extracted_cost_price=pt_tot_expend.query('(com_procedurename == @procedure) & (com_bom_main_category == @category)').dropna(axis=1).loc[:,('com_cost_price',slice(None))]\n",
    "                extracted_qty=pt_tot_expend.query('(com_procedurename == @procedure) & (com_bom_main_category == @category)').dropna(axis=1).loc[:,'com_quantity_consumed']\n",
    "                Cheapest_supplier_name=list(extracted_cost_price.idxmin(axis=1).values[0])[1]\n",
    "                Cheapest_supp_qty=extracted_qty[Cheapest_supplier_name].values[0]\n",
    "                Cheapest_cost_price=list(extracted_cost_price.min(axis=1))[0]\n",
    "                Result= Result.append({'Procedure':procedure,'Main_Category':category,'LC_supp_name':Cheapest_supplier_name,\n",
    "                                   'LC_supp_cost_price':Cheapest_cost_price,'Lc_supp_qty':Cheapest_supp_qty},ignore_index=True)    \n",
    "    return Result        \n",
    "        "
   ]
  },
  {
   "cell_type": "code",
   "execution_count": null,
   "metadata": {},
   "outputs": [],
   "source": [
    "low_cost_supp_details=curr_month_low_cost_supp(Low_cost_supp)"
   ]
  },
  {
   "cell_type": "code",
   "execution_count": null,
   "metadata": {},
   "outputs": [],
   "source": [
    "Merged=pd.merge(low_cost_supp_details,total_expend, on=['Procedure','Main_Category'])"
   ]
  },
  {
   "cell_type": "code",
   "execution_count": null,
   "metadata": {},
   "outputs": [],
   "source": [
    "Merged['%_of_tot_expen']=((Merged['LC_supp_cost_price']*Merged['Lc_supp_qty'])/Merged['Total_expenditure'])"
   ]
  },
  {
   "cell_type": "code",
   "execution_count": null,
   "metadata": {},
   "outputs": [],
   "source": [
    "Merged.to_excel(\"Merged.xlsx\")"
   ]
  },
  {
   "cell_type": "code",
   "execution_count": null,
   "metadata": {},
   "outputs": [],
   "source": [
    "to_check= Merged[Merged['%_of_tot_expen']<0.80]"
   ]
  },
  {
   "cell_type": "code",
   "execution_count": null,
   "metadata": {},
   "outputs": [],
   "source": []
  },
  {
   "cell_type": "code",
   "execution_count": 1,
   "metadata": {},
   "outputs": [],
   "source": [
    "import numpy as np"
   ]
  },
  {
   "cell_type": "code",
   "execution_count": 2,
   "metadata": {},
   "outputs": [],
   "source": [
    "a=[1,2,-3,5,6]"
   ]
  },
  {
   "cell_type": "code",
   "execution_count": null,
   "metadata": {},
   "outputs": [],
   "source": []
  },
  {
   "cell_type": "code",
   "execution_count": null,
   "metadata": {},
   "outputs": [],
   "source": []
  }
 ],
 "metadata": {
  "kernelspec": {
   "display_name": "Python 3",
   "language": "python",
   "name": "python3"
  },
  "language_info": {
   "codemirror_mode": {
    "name": "ipython",
    "version": 3
   },
   "file_extension": ".py",
   "mimetype": "text/x-python",
   "name": "python",
   "nbconvert_exporter": "python",
   "pygments_lexer": "ipython3",
   "version": "3.7.4"
  }
 },
 "nbformat": 4,
 "nbformat_minor": 2
}
