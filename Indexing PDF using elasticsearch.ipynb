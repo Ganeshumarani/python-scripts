{
 "cells": [
  {
   "cell_type": "code",
   "execution_count": null,
   "metadata": {},
   "outputs": [],
   "source": [
    "from elasticsearch import Elasticsearch\n",
    "import os\n",
    "import glob\n",
    "import PyPDF2\n",
    "import PyPDF3\n",
    "import pandas as pd"
   ]
  },
  {
   "cell_type": "code",
   "execution_count": null,
   "metadata": {},
   "outputs": [],
   "source": [
    "data= pd.read_excel(\"NGC_EC_DA_P1.xlsx\",sheet_name=0)"
   ]
  },
  {
   "cell_type": "code",
   "execution_count": null,
   "metadata": {},
   "outputs": [],
   "source": [
    "for i in range(len(data['Cd_AR'])):\n",
    "    check_value= data['mpn_validated'][i]\n",
    "    string=str(data['Cd_AR'][i])\n",
    "    \n",
    "    if (check_value=='NO VALUE'):\n",
    "        try:\n",
    "            aftr_split=string.split('-',maxsplit=1)\n",
    "            if len(aftr_split)<2:\n",
    "                F_str=aftr_split[0]\n",
    "            else:\n",
    "                F_str=aftr_split[1]\n",
    "            mpn_extracted= mpn_extracted.append({'Original':string,'Extracted':F_str},ignore_index=True)\n",
    "        except (IndexError,AttributeError):\n",
    "            print(string)\n",
    "    else:\n",
    "        mpn_extracted= mpn_extracted.append({'Original':string,'Extracted':check_value},ignore_index=True)\n",
    "        \n",
    "    "
   ]
  },
  {
   "cell_type": "code",
   "execution_count": null,
   "metadata": {},
   "outputs": [],
   "source": [
    "mpn_extracted.to_excel('mpn_extracted_values_2.xlsx')"
   ]
  },
  {
   "cell_type": "code",
   "execution_count": null,
   "metadata": {},
   "outputs": [],
   "source": [
    "search_str=mpn_extracted['Extracted']"
   ]
  },
  {
   "cell_type": "code",
   "execution_count": null,
   "metadata": {},
   "outputs": [],
   "source": [
    "for j in range(len(fix_part_num['Original'])):\n",
    "    finder=fix_part_num['Original'][j]\n",
    "    ind=(mpn_extracted[mpn_extracted['Original']==finder]).index[0]\n",
    "    mpn_extracted['Extracted'][ind]=fix_part_num['Extracted'][j]\n",
    "    "
   ]
  },
  {
   "cell_type": "code",
   "execution_count": null,
   "metadata": {},
   "outputs": [],
   "source": []
  },
  {
   "cell_type": "code",
   "execution_count": null,
   "metadata": {},
   "outputs": [],
   "source": []
  },
  {
   "cell_type": "code",
   "execution_count": null,
   "metadata": {},
   "outputs": [],
   "source": [
    "fix_part_num= pd.read_excel(\"mpn_extracted_values_1.xlsx\",sheet_name=1)"
   ]
  },
  {
   "cell_type": "code",
   "execution_count": null,
   "metadata": {},
   "outputs": [],
   "source": [
    "for k in range(len(fix_part_num['Extracted'])):\n",
    "    change=fix_part_num['Extracted'][k]\n",
    "    assign= (change.split('-',maxsplit=1))[1]\n",
    "    fix_part_num['Extracted'][k]=assign"
   ]
  },
  {
   "cell_type": "code",
   "execution_count": null,
   "metadata": {},
   "outputs": [],
   "source": [
    "search_str=fix_part_num['Extracted']"
   ]
  },
  {
   "cell_type": "code",
   "execution_count": null,
   "metadata": {},
   "outputs": [],
   "source": [
    "os.chdir(\"C:/Users/Ganesh P Umarani/Desktop/all_pdfs\")\n",
    "files=glob.glob(\"*.*\")"
   ]
  },
  {
   "cell_type": "markdown",
   "metadata": {},
   "source": [
    "#Function to read pdf using PyPDF2"
   ]
  },
  {
   "cell_type": "code",
   "execution_count": null,
   "metadata": {},
   "outputs": [],
   "source": [
    "def extractpdffiles(files):\n",
    "    this_loc=1\n",
    "    df=pd.DataFrame(columns=(\"name\",\"content\"))\n",
    "    \n",
    "    for file in [files]:\n",
    "        try:\n",
    "            pdfFileObj=open(file,'rb')\n",
    "            #pdfReader=PyPDF2.PdfFileReader(pdfFileObj)\n",
    "            pdfReader=PyPDF3.PdfFileReader(pdfFileObj)\n",
    "            print(file)\n",
    "            if pdfReader.isEncrypted:\n",
    "                try:\n",
    "                    pdfReader.decrypt('')\n",
    "                except Exception as e :\n",
    "                    print('{} --- > {}'.format(file, e))\n",
    "                    continue\n",
    "                \n",
    "            n_pages=pdfReader.numPages\n",
    "            this_doc=''\n",
    "            for i in range(n_pages):\n",
    "                pageObj=pdfReader.getPage(i)\n",
    "                this_text=pageObj.extractText()\n",
    "                this_doc+=this_text\n",
    "            df.loc[this_loc]= file , this_doc\n",
    "            this_loc = this_loc +1\n",
    "        except Exception as e:\n",
    "            print('{} --- > {}'.format(file, e))\n",
    "    return df"
   ]
  },
  {
   "cell_type": "code",
   "execution_count": null,
   "metadata": {},
   "outputs": [],
   "source": [
    "df = extractpdffiles(files)"
   ]
  },
  {
   "cell_type": "code",
   "execution_count": null,
   "metadata": {},
   "outputs": [],
   "source": [
    "df=df[df.content != '']"
   ]
  },
  {
   "cell_type": "code",
   "execution_count": null,
   "metadata": {},
   "outputs": [],
   "source": [
    "df.reset_index(drop=True, inplace=True)"
   ]
  },
  {
   "cell_type": "markdown",
   "metadata": {},
   "source": [
    "# Create Index"
   ]
  },
  {
   "cell_type": "code",
   "execution_count": null,
   "metadata": {},
   "outputs": [],
   "source": [
    "es = Elasticsearch()"
   ]
  },
  {
   "cell_type": "code",
   "execution_count": null,
   "metadata": {},
   "outputs": [],
   "source": [
    "es.indices.get_alias(\"*\")"
   ]
  },
  {
   "cell_type": "code",
   "execution_count": null,
   "metadata": {},
   "outputs": [],
   "source": [
    "col_names=df.columns\n",
    "for row_number in range(df.shape[0]):\n",
    "    body=dict([(name,str(df.iloc[row_number][name])) for name in col_names])\n",
    "    es.index(index='all_2',doc_type='catalogue',body=body)"
   ]
  },
  {
   "cell_type": "code",
   "execution_count": null,
   "metadata": {},
   "outputs": [],
   "source": [
    "result = pd.DataFrame(columns=['part_num','file_names'])\n",
    "for searchstring in ['496H220']:\n",
    "    search_results=es.search(index='all_2',\n",
    "                        body={\"_source\":\"name\",\n",
    "                             'query':{\n",
    "                                 'match_phrase':{\"content\": searchstring},\n",
    "                                    }\n",
    "                             })\n",
    "    \n",
    "    res_list=search_results['hits']['hits']\n",
    "    for i in range(len(res_list)):\n",
    "        res_dict=res_list[i]\n",
    "        result=result.append({'part_num':searchstring,'file_names':res_dict['_source']['name']},ignore_index=True)\n",
    "    print(\"search string: {}  result list: {}\".format(searchstring,len(res_list)))\n",
    "        \n",
    "        "
   ]
  },
  {
   "cell_type": "code",
   "execution_count": null,
   "metadata": {},
   "outputs": [],
   "source": []
  },
  {
   "cell_type": "code",
   "execution_count": null,
   "metadata": {},
   "outputs": [],
   "source": []
  },
  {
   "cell_type": "code",
   "execution_count": null,
   "metadata": {},
   "outputs": [],
   "source": [
    "result.to_excel(\"ES_output_3.xlsx\")"
   ]
  },
  {
   "cell_type": "code",
   "execution_count": null,
   "metadata": {},
   "outputs": [],
   "source": [
    "joined_part_num= mpn_extracted.merge(result,on='Extracted',how='outer')"
   ]
  },
  {
   "cell_type": "code",
   "execution_count": null,
   "metadata": {},
   "outputs": [],
   "source": []
  },
  {
   "cell_type": "code",
   "execution_count": null,
   "metadata": {},
   "outputs": [],
   "source": []
  },
  {
   "cell_type": "code",
   "execution_count": null,
   "metadata": {},
   "outputs": [],
   "source": []
  },
  {
   "cell_type": "code",
   "execution_count": null,
   "metadata": {},
   "outputs": [],
   "source": []
  },
  {
   "cell_type": "code",
   "execution_count": null,
   "metadata": {},
   "outputs": [],
   "source": [
    "Joined_all_fields.rename({'Original':'Cd_AR'},axis=1,inplace=True)"
   ]
  },
  {
   "cell_type": "code",
   "execution_count": null,
   "metadata": {},
   "outputs": [],
   "source": [
    "joined_part_num.to_excel('buffer_check.xlsx')"
   ]
  },
  {
   "cell_type": "code",
   "execution_count": null,
   "metadata": {},
   "outputs": [],
   "source": [
    "Joined_all_fields.columns"
   ]
  },
  {
   "cell_type": "code",
   "execution_count": null,
   "metadata": {},
   "outputs": [],
   "source": [
    "Joined_all_fields.columns"
   ]
  },
  {
   "cell_type": "code",
   "execution_count": null,
   "metadata": {},
   "outputs": [],
   "source": [
    "to_drop=['Row ID', 'Cd_AR clean num', 'Owner', 'Obsoleto',\n",
    "       'Cd_ARStato', 'TimeIns', 'dt_lastmov', 'ProdClass',\n",
    "       'Family', 'Group', 'Status', 'MinimumLot', 'ReorderLot', 'VAT',\n",
    "       'Weight', 'Repertorio', 'cnd', 'Cd_ARMisura', 'ResponsabileLinea', 'Brand', 'SUPPLIER',\n",
    "       'SUPPLIER NAME', 'manufacturer_validated',\n",
    "       'corporate_parent_validated', 'supplier_validated', 'brand_validated',\n",
    "       'weblink_product_page', 'weblink_mnf', 'weblink_corporate_parent',\n",
    "       'comment', 'Additional Info', 'value_info']"
   ]
  },
  {
   "cell_type": "code",
   "execution_count": null,
   "metadata": {},
   "outputs": [],
   "source": [
    "Joined_all_fields.drop(to_drop,axis=1,inplace=True)"
   ]
  },
  {
   "cell_type": "code",
   "execution_count": null,
   "metadata": {},
   "outputs": [],
   "source": [
    "data['Cd_AR']=data['Cd_AR'].astype(str,copy=False)"
   ]
  },
  {
   "cell_type": "code",
   "execution_count": null,
   "metadata": {},
   "outputs": [],
   "source": []
  },
  {
   "cell_type": "code",
   "execution_count": null,
   "metadata": {},
   "outputs": [],
   "source": [
    "Joined_all_fields=pd.read_excel('buffer_check.xlsx')"
   ]
  },
  {
   "cell_type": "code",
   "execution_count": null,
   "metadata": {},
   "outputs": [],
   "source": [
    "Joined_all_fields=data.merge(Joined_all_fields,on='Cd_AR',how='outer')"
   ]
  },
  {
   "cell_type": "code",
   "execution_count": null,
   "metadata": {},
   "outputs": [],
   "source": [
    "type(data['Cd_AR'][131413])"
   ]
  },
  {
   "cell_type": "code",
   "execution_count": null,
   "metadata": {},
   "outputs": [],
   "source": [
    "Joined_all_fields.head()"
   ]
  },
  {
   "cell_type": "code",
   "execution_count": null,
   "metadata": {},
   "outputs": [],
   "source": []
  },
  {
   "cell_type": "code",
   "execution_count": null,
   "metadata": {},
   "outputs": [],
   "source": [
    "len(Joined_all_fields)"
   ]
  },
  {
   "cell_type": "code",
   "execution_count": null,
   "metadata": {},
   "outputs": [],
   "source": [
    "Joined_all_fields[Joined_all_fields['mpn_validated']=='7145']"
   ]
  },
  {
   "cell_type": "code",
   "execution_count": null,
   "metadata": {},
   "outputs": [],
   "source": [
    "Joined_all_fields.to_excel('Output_with_all Fields_6.xlsx')"
   ]
  },
  {
   "cell_type": "code",
   "execution_count": null,
   "metadata": {},
   "outputs": [],
   "source": [
    "pwd"
   ]
  },
  {
   "cell_type": "code",
   "execution_count": null,
   "metadata": {},
   "outputs": [],
   "source": []
  }
 ],
 "metadata": {
  "kernelspec": {
   "display_name": "Python 3",
   "language": "python",
   "name": "python3"
  },
  "language_info": {
   "codemirror_mode": {
    "name": "ipython",
    "version": 3
   },
   "file_extension": ".py",
   "mimetype": "text/x-python",
   "name": "python",
   "nbconvert_exporter": "python",
   "pygments_lexer": "ipython3",
   "version": "3.7.4"
  }
 },
 "nbformat": 4,
 "nbformat_minor": 2
}
