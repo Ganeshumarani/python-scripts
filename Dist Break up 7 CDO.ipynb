{
 "cells": [
  {
   "cell_type": "code",
   "execution_count": 1,
   "metadata": {},
   "outputs": [],
   "source": [
    "import pandas as pd\n",
    "import numpy as np\n",
    "import os,glob"
   ]
  },
  {
   "cell_type": "code",
   "execution_count": 2,
   "metadata": {},
   "outputs": [],
   "source": [
    "os.chdir(\"C:/Users/Ganesh P Umarani/Desktop/Optum/Map back/7cdo\")"
   ]
  },
  {
   "cell_type": "code",
   "execution_count": 43,
   "metadata": {},
   "outputs": [],
   "source": [
    "#import distributor file\n",
    "dist_file=pd.read_csv('Master_Medline_distributor_file_with_cdo_mapping_HN_V2.csv')"
   ]
  },
  {
   "cell_type": "code",
   "execution_count": null,
   "metadata": {},
   "outputs": [],
   "source": []
  },
  {
   "cell_type": "code",
   "execution_count": null,
   "metadata": {},
   "outputs": [],
   "source": []
  },
  {
   "cell_type": "code",
   "execution_count": 49,
   "metadata": {},
   "outputs": [],
   "source": [
    "# convert all values in CDO column to upper case\n",
    "dist_file['CDO']=dist_file['CDO'].str.upper()"
   ]
  },
  {
   "cell_type": "code",
   "execution_count": null,
   "metadata": {},
   "outputs": [],
   "source": []
  },
  {
   "cell_type": "code",
   "execution_count": null,
   "metadata": {},
   "outputs": [],
   "source": [
    "# Create separate dataframes for each CDO and filter respective CDO data and export them as required\n",
    "WELL_MED=dist_file[dist_file.CDO=='WELLMED']\n",
    "NEW_WEST=dist_file[dist_file.CDO == 'NEW WEST']\n",
    "MEDEXPRESS=dist_file[dist_file.CDO == 'MEDEXPRESS']\n",
    "# PHCT=dist_file[dist_file.CDO == 'PHCT']\n",
    "AHN=dist_file[dist_file.CDO == 'AHN']\n",
    "RIVERSIDE=dist_file[dist_file.CDO == 'RIVERSIDE']\n",
    "OPTUM_CARE_MEDICAL_GROUP=dist_file[dist_file.CDO == 'OPTUM CARE MEDICAL GROUP']"
   ]
  },
  {
   "cell_type": "code",
   "execution_count": null,
   "metadata": {},
   "outputs": [],
   "source": []
  }
 ],
 "metadata": {
  "kernelspec": {
   "display_name": "Python 3",
   "language": "python",
   "name": "python3"
  },
  "language_info": {
   "codemirror_mode": {
    "name": "ipython",
    "version": 3
   },
   "file_extension": ".py",
   "mimetype": "text/x-python",
   "name": "python",
   "nbconvert_exporter": "python",
   "pygments_lexer": "ipython3",
   "version": "3.7.4"
  }
 },
 "nbformat": 4,
 "nbformat_minor": 2
}
