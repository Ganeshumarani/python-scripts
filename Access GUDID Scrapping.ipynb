{
 "cells": [
  {
   "cell_type": "code",
   "execution_count": 1,
   "metadata": {},
   "outputs": [],
   "source": [
    "import pandas as pd\n",
    "import numpy as np\n",
    "import requests\n",
    "from bs4 import BeautifulSoup\n",
    "import os,glob\n",
    "import re"
   ]
  },
  {
   "cell_type": "code",
   "execution_count": 2,
   "metadata": {},
   "outputs": [],
   "source": [
    "os.chdir(\"C:/Users/Ganesh P Umarani/Desktop/McLeod/McLeod complete data/Product master files\")"
   ]
  },
  {
   "cell_type": "code",
   "execution_count": null,
   "metadata": {},
   "outputs": [],
   "source": [
    "#Import file which has mfg name and part num for products\n",
    "data_file=pd.read_excel(\"Access GUDID.xlsx\")"
   ]
  },
  {
   "cell_type": "code",
   "execution_count": null,
   "metadata": {},
   "outputs": [],
   "source": [
    "data_file=data_file[data_file.MNF_PART_NUM_PM.notnull()]"
   ]
  },
  {
   "cell_type": "code",
   "execution_count": null,
   "metadata": {},
   "outputs": [],
   "source": []
  },
  {
   "cell_type": "code",
   "execution_count": null,
   "metadata": {},
   "outputs": [],
   "source": [
    "#output data frame to collect scrapped results\n",
    "final_output=pd.DataFrame()"
   ]
  },
  {
   "cell_type": "code",
   "execution_count": null,
   "metadata": {},
   "outputs": [],
   "source": []
  },
  {
   "cell_type": "code",
   "execution_count": null,
   "metadata": {},
   "outputs": [],
   "source": []
  },
  {
   "cell_type": "code",
   "execution_count": null,
   "metadata": {},
   "outputs": [],
   "source": [
    "for idx,row in data_file.iterrows():\n",
    "    mfg_part_num=str(row['MNF_PART_NUM_PM']) #extract mpn for the product\n",
    "    mfg_name=str(row['MANUFACTURER_NAME_PM']) #extract mfg name for the product\n",
    "    mfg_name=mfg_name.replace(\" \",'+')\n",
    "    #create a URL as shown below using mfg name and mpn\n",
    "    URL=\"https://accessgudid.nlm.nih.gov/devices/search?query=versionModelNumber%3A%28%22\"+mfg_part_num+\"%22%29+AND+companyName%3A%28\"+mfg_name+\"%29\"\n",
    "    \n",
    "    try:\n",
    "        data=requests.get(URL)\n",
    "    except:\n",
    "        continue\n",
    "    \n",
    "    try:\n",
    "        data=BeautifulSoup(data.text, 'html.parser')\n",
    "    except:\n",
    "        continue\n",
    "    \n",
    "    try:\n",
    "        result_row=data.find_all('div',{'class':'resultRow'})\n",
    "    except:\n",
    "        continue\n",
    "    \n",
    "    try:\n",
    "        #extract device id of the products which were returned as result by the server and store them\n",
    "        devi_id_links=result_row[0].find_all('div',{'class':'xsmall-11'})[0].find_all('a',href=True)\n",
    "    except:\n",
    "        continue\n",
    "    \n",
    "    if(devi_id_links):\n",
    "        for i in range(len(devi_id_links)):\n",
    "            try:\n",
    "                device_id=devi_id_links[i]['href']\n",
    "            except:\n",
    "                continue\n",
    "            \n",
    "            #Collect device id for each product along with SK. This device ID will be used to directly go to product page\n",
    "            final_output=final_output.append({\"Secondary_Key\":row['Secondary_Key'],\n",
    "                                             \"DeviceID\":device_id},ignore_index=True)\n",
    "            print(\"Length of output: {}\".format(len(final_output)))"
   ]
  },
  {
   "cell_type": "code",
   "execution_count": null,
   "metadata": {},
   "outputs": [],
   "source": [
    "final_output.to_excel(\"Device_Id_file.xlsx\")"
   ]
  },
  {
   "cell_type": "code",
   "execution_count": null,
   "metadata": {},
   "outputs": [],
   "source": []
  },
  {
   "cell_type": "code",
   "execution_count": null,
   "metadata": {},
   "outputs": [],
   "source": []
  },
  {
   "cell_type": "code",
   "execution_count": null,
   "metadata": {},
   "outputs": [],
   "source": []
  },
  {
   "cell_type": "code",
   "execution_count": null,
   "metadata": {},
   "outputs": [],
   "source": []
  },
  {
   "cell_type": "code",
   "execution_count": 3,
   "metadata": {},
   "outputs": [],
   "source": [
    "#read the file with devie ID of the products\n",
    "data=pd.read_excel(\"Device_Id_file.xlsx\")"
   ]
  },
  {
   "cell_type": "code",
   "execution_count": 4,
   "metadata": {},
   "outputs": [],
   "source": [
    "data.drop(labels=['Unnamed: 0'],axis=1,inplace=True)"
   ]
  },
  {
   "cell_type": "code",
   "execution_count": 5,
   "metadata": {},
   "outputs": [
    {
     "data": {
      "text/html": [
       "<div>\n",
       "<style scoped>\n",
       "    .dataframe tbody tr th:only-of-type {\n",
       "        vertical-align: middle;\n",
       "    }\n",
       "\n",
       "    .dataframe tbody tr th {\n",
       "        vertical-align: top;\n",
       "    }\n",
       "\n",
       "    .dataframe thead th {\n",
       "        text-align: right;\n",
       "    }\n",
       "</style>\n",
       "<table border=\"1\" class=\"dataframe\">\n",
       "  <thead>\n",
       "    <tr style=\"text-align: right;\">\n",
       "      <th></th>\n",
       "      <th>DeviceID</th>\n",
       "      <th>Secondary_Key</th>\n",
       "    </tr>\n",
       "  </thead>\n",
       "  <tbody>\n",
       "    <tr>\n",
       "      <th>0</th>\n",
       "      <td>/devices/10885425323579</td>\n",
       "      <td>SK-7417</td>\n",
       "    </tr>\n",
       "    <tr>\n",
       "      <th>1</th>\n",
       "      <td>/devices/10885425323579</td>\n",
       "      <td>SK-7418</td>\n",
       "    </tr>\n",
       "    <tr>\n",
       "      <th>2</th>\n",
       "      <td>/devices/10885425323579</td>\n",
       "      <td>SK-7419</td>\n",
       "    </tr>\n",
       "    <tr>\n",
       "      <th>3</th>\n",
       "      <td>/devices/10884521013704</td>\n",
       "      <td>SK-7475</td>\n",
       "    </tr>\n",
       "    <tr>\n",
       "      <th>4</th>\n",
       "      <td>/devices/10884521013704</td>\n",
       "      <td>SK-7476</td>\n",
       "    </tr>\n",
       "  </tbody>\n",
       "</table>\n",
       "</div>"
      ],
      "text/plain": [
       "                  DeviceID Secondary_Key\n",
       "0  /devices/10885425323579       SK-7417\n",
       "1  /devices/10885425323579       SK-7418\n",
       "2  /devices/10885425323579       SK-7419\n",
       "3  /devices/10884521013704       SK-7475\n",
       "4  /devices/10884521013704       SK-7476"
      ]
     },
     "execution_count": 5,
     "metadata": {},
     "output_type": "execute_result"
    }
   ],
   "source": [
    "data.head()"
   ]
  },
  {
   "cell_type": "code",
   "execution_count": null,
   "metadata": {},
   "outputs": [],
   "source": []
  },
  {
   "cell_type": "code",
   "execution_count": 6,
   "metadata": {},
   "outputs": [],
   "source": [
    "#output dataframe to store the scrapped values\n",
    "sourced_data=pd.DataFrame()"
   ]
  },
  {
   "cell_type": "code",
   "execution_count": null,
   "metadata": {},
   "outputs": [],
   "source": []
  },
  {
   "cell_type": "code",
   "execution_count": null,
   "metadata": {},
   "outputs": [],
   "source": [
    "for idx,row in data.iterrows():\n",
    "    URL=\"https://accessgudid.nlm.nih.gov\"+str(row['DeviceID']) # create a url of product with device id\n",
    "    label_dict={} #dict to store the device attribute label\n",
    "    pkg_info_tbl={} #dict to store packaging info of product\n",
    "    try:\n",
    "        r=requests.get(URL)\n",
    "        r=BeautifulSoup(r.text, 'html.parser')\n",
    "    except:\n",
    "        continue\n",
    "    \n",
    "    try:\n",
    "        sections=r.find_all('div',{'class':'deviceInformation'})\n",
    "        labels=sections[0].find_all('label',{'class':'device-attribute-label'})\n",
    "        for label in labels:\n",
    "            key=label.get_text()\n",
    "            value=label.nextSibling.strip()\n",
    "            label_dict.setdefault(key,[]).append(value)\n",
    "    except:\n",
    "        print(\"Issue 1\")\n",
    "        pass\n",
    "    \n",
    "    try:\n",
    "        packaging=sections[0].find_all('table',{'class':'packageDItable'})\n",
    "        pkg_tbl_headers=packaging[0].find_all('thead')[0].find_all('th')\n",
    "        pkg_tbl_value_tr=packaging[0].find_all('tbody')[0].find_all('tr')\n",
    "        for tr in pkg_tbl_value_tr:\n",
    "            td_value_list=tr.find_all('td')\n",
    "            for i in range(len(td_value_list)):\n",
    "                value=td_value_list[i].get_text()\n",
    "                key=pkg_tbl_headers[i].get_text()\n",
    "                pkg_info_tbl.setdefault(key,[]).append(value)\n",
    "    except:\n",
    "        print(\"Issue 2\")\n",
    "        pass\n",
    "    \n",
    "    # label dict is appended with pkg info dict\n",
    "    label_dict.update(pkg_info_tbl)\n",
    "    label_dict['Secondary_key']=row['Secondary_Key']\n",
    "    sourced_data=sourced_data.append(label_dict,ignore_index=True)\n",
    "    print(\"Length of output:  {}\".format(len(sourced_data)))"
   ]
  },
  {
   "cell_type": "code",
   "execution_count": 9,
   "metadata": {},
   "outputs": [],
   "source": [
    "sourced_data.to_excel(\"sourced_data.xlsx\")"
   ]
  },
  {
   "cell_type": "code",
   "execution_count": null,
   "metadata": {},
   "outputs": [],
   "source": []
  },
  {
   "cell_type": "code",
   "execution_count": null,
   "metadata": {},
   "outputs": [],
   "source": []
  },
  {
   "cell_type": "code",
   "execution_count": null,
   "metadata": {},
   "outputs": [],
   "source": []
  },
  {
   "cell_type": "code",
   "execution_count": null,
   "metadata": {},
   "outputs": [],
   "source": []
  },
  {
   "cell_type": "code",
   "execution_count": null,
   "metadata": {},
   "outputs": [],
   "source": []
  }
 ],
 "metadata": {
  "kernelspec": {
   "display_name": "Python 3",
   "language": "python",
   "name": "python3"
  },
  "language_info": {
   "codemirror_mode": {
    "name": "ipython",
    "version": 3
   },
   "file_extension": ".py",
   "mimetype": "text/x-python",
   "name": "python",
   "nbconvert_exporter": "python",
   "pygments_lexer": "ipython3",
   "version": "3.7.4"
  }
 },
 "nbformat": 4,
 "nbformat_minor": 2
}
