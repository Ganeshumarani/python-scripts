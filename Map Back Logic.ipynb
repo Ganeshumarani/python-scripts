{
 "cells": [
  {
   "cell_type": "code",
   "execution_count": 1,
   "metadata": {},
   "outputs": [],
   "source": [
    "import pandas as pd\n",
    "import numpy as np\n",
    "import os,glob"
   ]
  },
  {
   "cell_type": "code",
   "execution_count": 52,
   "metadata": {},
   "outputs": [],
   "source": [
    "os.chdir(\"C:/Users/Ganesh P Umarani/Desktop/Optum/Map back\")"
   ]
  },
  {
   "cell_type": "code",
   "execution_count": null,
   "metadata": {},
   "outputs": [],
   "source": []
  },
  {
   "cell_type": "code",
   "execution_count": 223,
   "metadata": {},
   "outputs": [],
   "source": [
    "final_output=pd.DataFrame()"
   ]
  },
  {
   "cell_type": "code",
   "execution_count": 224,
   "metadata": {},
   "outputs": [],
   "source": [
    "index_with_issue=[]"
   ]
  },
  {
   "cell_type": "code",
   "execution_count": null,
   "metadata": {},
   "outputs": [],
   "source": [
    "data= #filename with sk and concatenated pk"
   ]
  },
  {
   "cell_type": "code",
   "execution_count": null,
   "metadata": {},
   "outputs": [],
   "source": [
    "for j in range(len(<data>)):\n",
    "    row=data.iloc[[j]]\n",
    "    list_of_pk=str(row['Primary_Key'][j]).strip().split(\",\")\n",
    "    list_of_cols=row.columns.tolist()\n",
    "    \n",
    "    try:\n",
    "        list_of_cols.remove('Primary_Key')\n",
    "    except ValueError:\n",
    "        index_with_issue.append(idx)\n",
    "    \n",
    "    data_to_copy=row[list_of_cols]\n",
    "    \n",
    "    for i in range(len(list_of_pk)):\n",
    "        primar_key=list_of_pk[i]\n",
    "        temp_df=pd.DataFrame()\n",
    "        temp_df=temp_df.append(data_to_copy,ignore_index=True)\n",
    "        temp_df['Primary_Key']=primar_key\n",
    "        final_output=final_output.append(temp_df,ignore_index=True)\n",
    "    print(j)"
   ]
  },
  {
   "cell_type": "code",
   "execution_count": null,
   "metadata": {},
   "outputs": [],
   "source": []
  },
  {
   "cell_type": "code",
   "execution_count": null,
   "metadata": {},
   "outputs": [],
   "source": []
  },
  {
   "cell_type": "code",
   "execution_count": null,
   "metadata": {},
   "outputs": [],
   "source": []
  }
 ],
 "metadata": {
  "kernelspec": {
   "display_name": "Python 3",
   "language": "python",
   "name": "python3"
  },
  "language_info": {
   "codemirror_mode": {
    "name": "ipython",
    "version": 3
   },
   "file_extension": ".py",
   "mimetype": "text/x-python",
   "name": "python",
   "nbconvert_exporter": "python",
   "pygments_lexer": "ipython3",
   "version": "3.7.4"
  }
 },
 "nbformat": 4,
 "nbformat_minor": 2
}
